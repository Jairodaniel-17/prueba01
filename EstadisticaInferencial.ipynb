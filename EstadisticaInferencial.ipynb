{
  "nbformat": 4,
  "nbformat_minor": 0,
  "metadata": {
    "colab": {
      "provenance": [],
      "toc_visible": true,
      "authorship_tag": "ABX9TyM67wpzcuWh2CTuuOLnwYLh",
      "include_colab_link": true
    },
    "kernelspec": {
      "name": "python3",
      "display_name": "Python 3"
    },
    "language_info": {
      "name": "python"
    },
    "gpuClass": "standard",
    "accelerator": "GPU"
  },
  "cells": [
    {
      "cell_type": "markdown",
      "metadata": {
        "id": "view-in-github",
        "colab_type": "text"
      },
      "source": [
        "<a href=\"https://colab.research.google.com/github/Jairodaniel-17/prueba01/blob/main/EstadisticaInferencial.ipynb\" target=\"_parent\"><img src=\"https://colab.research.google.com/assets/colab-badge.svg\" alt=\"Open In Colab\"/></a>"
      ]
    },
    {
      "cell_type": "code",
      "source": [
        "from google.colab import drive\n",
        "drive.mount('/content/drive')"
      ],
      "metadata": {
        "id": "2EhhdwVctBxo",
        "colab": {
          "base_uri": "https://localhost:8080/"
        },
        "outputId": "e7c0ec3d-a4e6-4c58-bedf-c7e9156192a8"
      },
      "execution_count": 13,
      "outputs": [
        {
          "output_type": "stream",
          "name": "stdout",
          "text": [
            "Drive already mounted at /content/drive; to attempt to forcibly remount, call drive.mount(\"/content/drive\", force_remount=True).\n"
          ]
        }
      ]
    },
    {
      "cell_type": "code",
      "source": [
        "cd \"/content/drive/MyDrive/2023-I/Lenguaje de Programación III/Aparte/Colab\""
      ],
      "metadata": {
        "colab": {
          "base_uri": "https://localhost:8080/"
        },
        "id": "QMO4PXEzt3B_",
        "outputId": "ef2b9b7c-eb10-4a16-82a8-41ae796af21d"
      },
      "execution_count": 16,
      "outputs": [
        {
          "output_type": "stream",
          "name": "stdout",
          "text": [
            "/content/drive/MyDrive/2023-I/Lenguaje de Programación III/Aparte/Colab\n"
          ]
        }
      ]
    },
    {
      "cell_type": "code",
      "source": [
        "!git config --global user.email \"20b3010069@untels.edu.pe\"\n",
        "!git config --global user.name \"Jairodaniel-17\""
      ],
      "metadata": {
        "id": "30CT4XRguZmP"
      },
      "execution_count": 15,
      "outputs": []
    },
    {
      "cell_type": "code",
      "source": [
        "!echo \"# prueba02\" >> README.md\n",
        "!git init\n",
        "!git add README.md\n",
        "!git commit -m \"first commit\"\n",
        "!git branch -M main\n",
        "!git remote add origin https://github.com/Jairodaniel-17/prueba02.git\n",
        "!git push -u origin main"
      ],
      "metadata": {
        "colab": {
          "base_uri": "https://localhost:8080/"
        },
        "id": "Jr6y4MVhvBDQ",
        "outputId": "01e1a177-7e2d-40a3-a4d0-06e48b406cfb"
      },
      "execution_count": 12,
      "outputs": [
        {
          "output_type": "stream",
          "name": "stdout",
          "text": [
            "Initialized empty Git repository in /content/drive/MyDrive/2023-I/Lenguaje de Programación III/Aparte/Colab/.git/\n",
            "[master (root-commit) 0a36374] first commit\n",
            " 1 file changed, 1 insertion(+)\n",
            " create mode 100644 README.md\n",
            "fatal: could not read Username for 'https://github.com': No such device or address\n"
          ]
        }
      ]
    },
    {
      "cell_type": "code",
      "execution_count": null,
      "metadata": {
        "id": "Y06r1JA1Ry04"
      },
      "outputs": [],
      "source": [
        "import pandas as pd\n",
        "import matplotlib.pyplot as plt\n",
        "import seaborn as sns\n",
        "import numpy as np\n",
        "\n",
        "# Creamos un DataFrame de ejemplo con 1000 observaciones de puntajes de precisión\n",
        "df = pd.DataFrame({'puntaje_precision': np.random.normal(loc=0.85, scale=0.1, size=1000)})\n",
        "\n",
        "# Generamos el gráfico de densidad utilizando la biblioteca Seaborn\n",
        "sns.kdeplot(df['puntaje_precision'], shade=True)\n",
        "plt.xlabel('Puntaje de precisión')\n",
        "plt.show()\n"
      ]
    },
    {
      "cell_type": "code",
      "source": [
        "from scipy.stats import norm\n",
        "\n",
        "# Supongamos que tenemos 1000 observaciones del puntaje de precisión en nuestro DataFrame 'df'\n",
        "media = df['puntaje_precision'].mean()\n",
        "desviacion_estandar = df['puntaje_precision'].std()\n",
        "intervalo = norm.interval(0.95, loc=media, scale=desviacion_estandar/1000**0.5)\n",
        "print(\"Intervalo de confianza del 95%: ({:.5f}, {:.5f})\".format(intervalo[0], intervalo[1]))\n"
      ],
      "metadata": {
        "id": "Dpv_bqPbSlsZ"
      },
      "execution_count": null,
      "outputs": []
    },
    {
      "cell_type": "markdown",
      "source": [
        "# T de Student\n",
        "La distribución t de Student es una distribución de probabilidad continua que se utiliza comúnmente en inferencia estadística. Se utiliza para estimar la media de una población normalmente distribuida cuando el tamaño de la muestra es pequeño (generalmente menos de 30). La distribución t de Student se deriva de la distribución normal y se utiliza cuando el tamaño de la muestra es pequeño y la desviación estándar de la población es desconocida.\n",
        "\n",
        "La función de densidad de probabilidad (PDF) de la distribución t de Student se define como:\n",
        "$$f(t) = \\frac{\\Gamma(\\frac{\\nu+1}{2})}{\\sqrt{\\nu\\pi}\\,\\Gamma(\\frac{\\nu}{2})} \\left(1 + \\frac{t^2}{\\nu}\\right)^{-\\frac{\\nu+1}{2}}$$\n",
        "\n",
        "Donde $\\Gamma()$ es la función gamma y $\\nu$ es el número de grados de libertad.\n",
        "\n",
        "# Ejemplo en Python\n",
        "Supongamos que tenemos una muestra de 10 observaciones de una población normalmente distribuida. Queremos estimar la media de la población utilizando la distribución t de Student con un nivel de confianza del 95%. Podemos hacer esto en Python utilizando la biblioteca scipy.stats:\n",
        "\n"
      ],
      "metadata": {
        "id": "l2QNl98aUk-s"
      }
    },
    {
      "cell_type": "code",
      "source": [
        "import numpy as np\n",
        "from scipy.stats import t\n",
        "\n",
        "# Definimos los datos de la muestra\n",
        "sample_data = [1.2, 1.5, 0.8, 1.3, 1.1, 1.4, 0.9, 1.2, 1.3, 1.0]\n",
        "\n",
        "# Calculamos la media y la desviación estándar de la muestra\n",
        "sample_mean = np.mean(sample_data)\n",
        "sample_std = np.std(sample_data, ddof=1)\n",
        "\n",
        "# Definimos los grados de libertad y el nivel de confianza\n",
        "df = len(sample_data) - 1  # grados de libertad\n",
        "alpha = 0.05  # nivel de confianza del 95%\n",
        "\n",
        "# Calculamos el intervalo de confianza utilizando la distribución t de Student\n",
        "t_critical = t.ppf(1 - alpha/2, df)\n",
        "margin_of_error = t_critical * (sample_std / np.sqrt(len(sample_data)))\n",
        "confidence_interval = (sample_mean - margin_of_error, sample_mean + margin_of_error)\n",
        "\n",
        "# Imprimimos el resultado\n",
        "print(\"Intervalo de confianza:\", confidence_interval)\n"
      ],
      "metadata": {
        "id": "BcTKKb8mVqOl"
      },
      "execution_count": null,
      "outputs": []
    },
    {
      "cell_type": "markdown",
      "source": [
        "En este ejemplo, hemos definido una muestra de 10 observaciones y hemos calculado su media y desviación estándar utilizando las funciones np.mean() y np.std(), respectivamente. Luego, hemos definido el número de grados de libertad (df) y el nivel de confianza (alpha) que queremos utilizar. A continuación, hemos utilizado la función t.ppf() para encontrar el valor crítico de t correspondiente al nivel de confianza y los grados de libertad. Finalmente, hemos calculado el margen de error y el intervalo de confianza utilizando la fórmula del intervalo de confianza de la media de la población con la distribución t de Student.\n",
        "\n",
        "#Chi-cuadrado\n",
        "La distribución de chi-cuadrado es otra distribución de probabilidad que se utiliza ampliamente en estadística. Se utiliza principalmente en pruebas de hipótesis y en la construcción de intervalos de confianza para la varianza poblacional de una distribución normal. También se utiliza en análisis de varianza (ANOVA) y en regresión lineal.\n",
        "\n",
        "La distribución de chi-cuadrado se define como la suma de los cuadrados de una cantidad determinada de variables aleatorias normales estándar independientes. Su función de densidad de probabilidad está dada por:\n",
        "\n",
        "$$f(x) = \\frac{1}{2^{\\frac{\\nu}{2}}\\Gamma\\left(\\frac{\\nu}{2}\\right)}x^{\\frac{\\nu}{2}-1}e^{-\\frac{x}{2}}$$\n",
        "\n",
        "donde $k$ es el número de grados de libertad de la distribución. La media y la varianza de una variable aleatoria chi-cuadrado son $k$ y $2k$, respectivamente.\n",
        "\n",
        "En Python, podemos generar números aleatorios de una distribución chi-cuadrado utilizando la función numpy.random.chisquare. Por ejemplo, para generar 1000 números aleatorios de una distribución chi-cuadrado con 5 grados de libertad, podemos hacer lo siguiente:"
      ],
      "metadata": {
        "id": "igbEeirIVxgU"
      }
    },
    {
      "cell_type": "code",
      "source": [
        "import numpy as np\n",
        "\n",
        "data = np.random.chisquare(df=5, size=1000)"
      ],
      "metadata": {
        "id": "V6dMEFcKWO6E"
      },
      "execution_count": null,
      "outputs": []
    },
    {
      "cell_type": "markdown",
      "source": [
        "Podemos entonces usar esta distribución para hacer pruebas de hipótesis o análisis de varianza en Python, utilizando las bibliotecas de estadística y análisis de datos, como scipy o statsmodels.\n",
        "\n",
        "Un ejemplo de aplicación de la distribución de chi-cuadrado en inteligencia artificial es en la evaluación de modelos de clasificación. En particular, la métrica de la matriz de confusión conocida como estadística $\\chi^2$ se basa en la distribución de chi-cuadrado. Esta estadística se utiliza para evaluar la independencia entre dos variables categóricas en una tabla de contingencia. La hipótesis nula es que las dos variables son independientes, y la hipótesis alternativa es que están asociadas. Un valor alto de estadística $\\chi^2$ indica una alta asociación entre las dos variables.\n",
        "\n",
        "En resumen, la distribución de chi-cuadrado es una herramienta importante en estadística para hacer pruebas de hipótesis y análisis de varianza. También tiene aplicaciones en inteligencia artificial, particularmente en la evaluación de modelos de clasificación. En Python, podemos generar números aleatorios de una distribución chi-cuadrado utilizando numpy.random.chisquare y utilizar bibliotecas como scipy o statsmodels para análisis más avanzados."
      ],
      "metadata": {
        "id": "oEprnx-sWU6c"
      }
    },
    {
      "cell_type": "markdown",
      "source": [
        "# Ejercicio 1 - t de Student\n",
        "Contexto: Un fabricante de televisores desea evaluar la duración de la batería de dos modelos diferentes. Para ello, se seleccionaron 10 televisores de cada modelo y se midió el tiempo de duración de la batería en horas. Los datos obtenidos se encuentran en los siguientes arreglos:\n",
        "\n",
        "Modelo A: [7.2, 8.1, 7.5, 6.9, 8.0, 7.8, 8.2, 7.4, 7.7, 8.5]\n",
        "Modelo B: [6.8, 7.5, 6.2, 7.1, 7.4, 7.0, 6.9, 7.3, 6.6, 7.2]\n",
        "Realice una prueba de hipótesis para determinar si existe diferencia en la duración promedio de la batería entre ambos modelos con un nivel de significancia del 5%.\n",
        "\n",
        "Solución en Python:\n",
        "\n"
      ],
      "metadata": {
        "id": "8Ovh2zLvWZrs"
      }
    },
    {
      "cell_type": "code",
      "source": [
        "import numpy as np\n",
        "from scipy.stats import t\n",
        "from scipy.stats import ttest_ind\n",
        "\n",
        "# Datos de duración de batería de cada modelo\n",
        "modelo_a = [7.2, 8.1, 7.5, 6.9, 8.0, 7.8, 8.2, 7.4, 7.7, 8.5]\n",
        "modelo_b = [6.8, 7.5, 6.2, 7.1, 7.4, 7.0, 6.9, 7.3, 6.6, 7.2]\n",
        "\n",
        "# Nivel de significancia\n",
        "alpha = 0.05\n",
        "\n",
        "# Prueba de hipótesis de diferencia de medias con t de Student\n",
        "t_stat, p_value = ttest_ind(modelo_a, modelo_b)\n",
        "\n",
        "# Cálculo del valor crítico de t\n",
        "n_a = len(modelo_a)\n",
        "n_b = len(modelo_b)\n",
        "df = n_a + n_b - 2\n",
        "t_crit = t.ppf(1 - alpha/2, df)\n",
        "\n",
        "# Evaluación de la hipótesis nula\n",
        "if abs(t_stat) > t_crit or p_value < alpha:\n",
        "    print(\"Se rechaza la hipótesis nula. Existe diferencia significativa en la duración promedio de la batería entre ambos modelos.\")\n",
        "else:\n",
        "    print(\"No se rechaza la hipótesis nula. No existe diferencia significativa en la duración promedio de la batería entre ambos modelos.\")\n"
      ],
      "metadata": {
        "id": "pv7T7ZS_WdJU"
      },
      "execution_count": null,
      "outputs": []
    },
    {
      "cell_type": "markdown",
      "source": [
        "#Ejercicio 2 - Chi-cuadrado\n",
        "Contexto: Un departamento de recursos humanos de una empresa desea evaluar si existe una relación entre el nivel de educación de los empleados y su salario. Para ello, se seleccionó una muestra aleatoria de 200 empleados y se registró su nivel de educación y salario anual. Los datos obtenidos se presentan en la siguiente tabla de contingencia\n"
      ],
      "metadata": {
        "id": "-dGficHZWtlc"
      }
    },
    {
      "cell_type": "markdown",
      "source": [
        "\n",
        "| |Menos de bachillerato|bachillerato|licenciatura|posgrado|\n",
        "|:----|:----|:----|:----|:----|\n",
        "|salario <=$50K|30|40|50|20|\n",
        "|:----|:----|:----|:----|:----|\n",
        "|salario > $50K|20|30|40|10| \n",
        "\n",
        "$\\frac{1}{\\frac{\\nu}{2}}$\n"
      ],
      "metadata": {
        "id": "-J2JZVY5YUQk"
      }
    },
    {
      "cell_type": "code",
      "source": [],
      "metadata": {
        "id": "TZ2FP5oDWZB0"
      },
      "execution_count": null,
      "outputs": []
    },
    {
      "cell_type": "code",
      "source": [
        "import pygame\n",
        "from pygame.locals import *\n",
        "from OpenGL.GL import *\n",
        "from OpenGL.GLU import *\n",
        "\n",
        "def draw_circle(radius):\n",
        "    num_segments = 100\n",
        "    glBegin(GL_TRIANGLE_FAN)\n",
        "    glVertex3f(0, 0, 0)\n",
        "    for i in range(num_segments + 1):\n",
        "        angle = i * 2.0 * pi / num_segments\n",
        "        x = radius * cos(angle)\n",
        "        y = radius * sin(angle)\n",
        "        glVertex3f(x, y, 0)\n",
        "    glEnd()\n",
        "\n",
        "def draw_fractal(n, radius, x, y):\n",
        "    if n == 0:\n",
        "        return\n",
        "    glPushMatrix()\n",
        "    glTranslatef(x, y, 0)\n",
        "    draw_circle(radius)\n",
        "    glPopMatrix()\n",
        "    draw_fractal(n - 1, radius / 2, x + radius / 2, y)\n",
        "    draw_fractal(n - 1, radius / 2, x - radius / 2, y)\n",
        "    draw_fractal(n - 1, radius / 2, x, y + radius / 2)\n",
        "    draw_fractal(n - 1, radius / 2, x, y - radius / 2)\n",
        "\n",
        "def main():\n",
        "    pygame.init()\n",
        "    display = (800, 600)\n",
        "    pygame.display.set_mode(display, DOUBLEBUF|OPENGL)\n",
        "\n",
        "    gluPerspective(45, (display[0]/display[1]), 0.1, 50.0)\n",
        "\n",
        "    glTranslatef(0.0, 0.0, -5)\n",
        "\n",
        "    glRotatef(45, 1, 0, 0)\n",
        "\n",
        "    while True:\n",
        "        for event in pygame.event.get():\n",
        "            if event.type == pygame.QUIT:\n",
        "                pygame.quit()\n",
        "                quit()\n",
        "\n",
        "        glClear(GL_COLOR_BUFFER_BIT|GL_DEPTH_BUFFER_BIT)\n",
        "\n",
        "        glColor3f(1, 0, 0)\n",
        "\n",
        "        draw_fractal(3, 1, 0, 0)\n",
        "\n",
        "        pygame.display.flip()\n",
        "        pygame.time.wait(10)\n",
        "\n",
        "main()"
      ],
      "metadata": {
        "id": "fuJTyLZbWR97"
      },
      "execution_count": null,
      "outputs": []
    }
  ]
}